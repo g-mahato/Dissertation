{
 "cells": [
  {
   "cell_type": "markdown",
   "id": "5cee7e09-a215-4e78-8120-d847e63f02f9",
   "metadata": {
    "ExecuteTime": {
     "end_time": "2024-05-03T11:10:31.129984Z",
     "start_time": "2024-05-03T11:10:31.128383Z"
    }
   },
   "source": [
    "# Import required library"
   ]
  },
  {
   "cell_type": "code",
   "execution_count": 1,
   "id": "b26cead7",
   "metadata": {
    "ExecuteTime": {
     "end_time": "2024-05-03T11:10:31.162975Z",
     "start_time": "2024-05-03T11:10:31.130664Z"
    }
   },
   "outputs": [],
   "source": [
    "import numpy as np\n",
    "import pandas as pd\n",
    "import os\n",
    "import glob\n",
    "import concurrent.futures\n",
    "import requests\n",
    "import cloudscraper\n",
    "import time\n",
    "from requests.exceptions import RequestException"
   ]
  },
  {
   "cell_type": "markdown",
   "id": "1ffa653f",
   "metadata": {
    "ExecuteTime": {
     "end_time": "2024-05-03T11:10:31.162975Z",
     "start_time": "2024-05-03T11:10:31.130664Z"
    }
   },
   "source": [
    "### Earthquake dataset form USGS(United States Geological Survey)"
   ]
  },
  {
   "cell_type": "markdown",
   "id": "4f04e5a0-d0f2-4da0-afc0-c88f0367f1ac",
   "metadata": {
    "ExecuteTime": {
     "end_time": "2024-05-03T11:10:31.165646Z",
     "start_time": "2024-05-03T11:10:31.163737Z"
    }
   },
   "source": [
    " Data collection begains with the downloading the dataset form USGS, the USGS provides science for a changing world, which reflects and responds to society’s continuously evolving needs. As the science arm of the Department of the Interior, the USGS brings an array of earth, water, biological, and mapping data and expertise to bear in support of decision-making on environmental, resource, and public safety issues. \n",
    "url = 'https://earthquake.usgs.gov/earthquakes/search/#%7B%22currentfeatureid%22%3Anull%2C%22mapposition%22%3A%5B%5B-86.46756%2C-537.1875%5D%2C%5B86.44583%2C160.3125%5D%5D%2C%22autoUpdate%22%3A%5B%22autoUpdate%22%5D%2C%22feed%22%3A%22undefined_undefined%22%2C%22listFormat%22%3A%22default%22%2C%22restrictListToMap%22%3A%5B%5D%2C%22sort%22%3A%22newest%22%2C%22basemap%22%3A%22grayscale%22%2C%22overlays%22%3A%5B%22plates%22%5D%2C%22distanceUnit%22%3A%22km%22%2C%22timezone%22%3A%22local%22%2C%22viewModes%22%3A%5B%22settings%22%2C%22map%22%5D%2C%22event%22%3Anull%2C%22search%22%3Anull%7D'\n",
    "from this source ive downloaded dataset from year 2011 to present date which is 2024 jan.\n",
    "from the website we can download less than 20000 entries at a time and there are more thatn 20k lables in a year \n",
    "so there are several dataset that i ve to import and concat."
   ]
  },
  {
   "cell_type": "code",
   "execution_count": 2,
   "id": "96a0f547",
   "metadata": {
    "ExecuteTime": {
     "end_time": "2024-05-03T11:10:31.168338Z",
     "start_time": "2024-05-03T11:10:31.166486Z"
    }
   },
   "outputs": [],
   "source": [
    "# Function to read CSV files using pandas. where path is the location of the file in the local storage \n",
    "\n",
    "def read_csv(path):\n",
    "    return pd.read_csv(path)\n",
    "\n"
   ]
  },
  {
   "cell_type": "code",
   "execution_count": 3,
   "id": "a030e512",
   "metadata": {
    "ExecuteTime": {
     "end_time": "2024-05-03T11:10:31.172826Z",
     "start_time": "2024-05-03T11:10:31.169239Z"
    }
   },
   "outputs": [
    {
     "data": {
      "text/plain": [
       "['../dataset/first_dataset_from_sorce/query (11).csv',\n",
       " '../dataset/first_dataset_from_sorce/query (2).csv',\n",
       " '../dataset/first_dataset_from_sorce/query (27).csv',\n",
       " '../dataset/first_dataset_from_sorce/query (26).csv',\n",
       " '../dataset/first_dataset_from_sorce/query (3).csv',\n",
       " '../dataset/first_dataset_from_sorce/query (10).csv',\n",
       " '../dataset/first_dataset_from_sorce/query (21).csv',\n",
       " '../dataset/first_dataset_from_sorce/query (8).csv',\n",
       " '../dataset/first_dataset_from_sorce/query (17).csv',\n",
       " '../dataset/first_dataset_from_sorce/query (4).csv',\n",
       " '../dataset/first_dataset_from_sorce/query (5).csv',\n",
       " '../dataset/first_dataset_from_sorce/query (16).csv',\n",
       " '../dataset/first_dataset_from_sorce/query (9).csv',\n",
       " '../dataset/first_dataset_from_sorce/query (20).csv',\n",
       " '../dataset/first_dataset_from_sorce/query (19).csv',\n",
       " '../dataset/first_dataset_from_sorce/query (23).csv',\n",
       " '../dataset/first_dataset_from_sorce/query (6).csv',\n",
       " '../dataset/first_dataset_from_sorce/query (15).csv',\n",
       " '../dataset/first_dataset_from_sorce/query (14).csv',\n",
       " '../dataset/first_dataset_from_sorce/query (7).csv',\n",
       " '../dataset/first_dataset_from_sorce/query (22).csv',\n",
       " '../dataset/first_dataset_from_sorce/query (18).csv',\n",
       " '../dataset/first_dataset_from_sorce/query (13).csv',\n",
       " '../dataset/first_dataset_from_sorce/query (25).csv',\n",
       " '../dataset/first_dataset_from_sorce/query (24).csv',\n",
       " '../dataset/first_dataset_from_sorce/query (12).csv',\n",
       " '../dataset/first_dataset_from_sorce/query (1).csv']"
      ]
     },
     "execution_count": 3,
     "metadata": {},
     "output_type": "execute_result"
    }
   ],
   "source": [
    "# To read all CSV files from a specific location using the glob.glob method \n",
    "\n",
    "csv_files = glob.glob('../dataset/first_dataset_from_sorce/*.{}'.format('csv'))\n",
    "csv_files\n",
    "# these are the list of usefull CSV dataframe "
   ]
  },
  {
   "cell_type": "code",
   "execution_count": 4,
   "id": "895462d0",
   "metadata": {
    "ExecuteTime": {
     "end_time": "2024-05-03T11:10:32.105380Z",
     "start_time": "2024-05-03T11:10:31.175007Z"
    }
   },
   "outputs": [],
   "source": [
    "#concating all the csv dataset in to one \n",
    "\n",
    "df = pd.concat([read_csv(f) for f in csv_files ], ignore_index=True)"
   ]
  },
  {
   "cell_type": "code",
   "execution_count": 5,
   "id": "06647fab",
   "metadata": {
    "ExecuteTime": {
     "end_time": "2024-05-03T11:10:32.194221Z",
     "start_time": "2024-05-03T11:10:32.106323Z"
    }
   },
   "outputs": [
    {
     "data": {
      "text/plain": [
       "Index(['time', 'latitude', 'longitude', 'depth', 'mag', 'magType', 'nst',\n",
       "       'gap', 'dmin', 'rms', 'net', 'id', 'updated', 'place', 'type',\n",
       "       'horizontalError', 'depthError', 'magError', 'magNst', 'status',\n",
       "       'locationSource', 'magSource'],\n",
       "      dtype='object')"
      ]
     },
     "execution_count": 5,
     "metadata": {},
     "output_type": "execute_result"
    }
   ],
   "source": [
    "df.columns"
   ]
  },
  {
   "cell_type": "code",
   "execution_count": 6,
   "id": "b1628427-7e8f-4bc5-a52f-4a7a25aa17e9",
   "metadata": {
    "ExecuteTime": {
     "end_time": "2024-05-03T11:10:32.375833Z",
     "start_time": "2024-05-03T11:10:32.194940Z"
    }
   },
   "outputs": [],
   "source": [
    "# sorting the dataframe by the time column because during concatining the files entries are ultered\n",
    "\n",
    "df = df.sort_values(by='time').reset_index(drop = True)"
   ]
  },
  {
   "cell_type": "code",
   "execution_count": 7,
   "id": "2347f2cc-7812-4603-9c55-16b86de37a70",
   "metadata": {
    "ExecuteTime": {
     "end_time": "2024-05-03T11:10:32.375833Z",
     "start_time": "2024-05-03T11:10:32.194940Z"
    }
   },
   "outputs": [
    {
     "data": {
      "text/plain": [
       "0    2011-01-01T00:02:31.960Z\n",
       "1    2011-01-01T00:06:59.380Z\n",
       "2    2011-01-01T00:34:10.130Z\n",
       "3    2011-01-01T00:46:01.400Z\n",
       "4    2011-01-01T01:00:46.850Z\n",
       "Name: time, dtype: object"
      ]
     },
     "execution_count": 7,
     "metadata": {},
     "output_type": "execute_result"
    }
   ],
   "source": [
    "# here the time column have time and date, here im taking hours, minute, day, months and year for the analysis\n",
    "df['time'].head()"
   ]
  },
  {
   "cell_type": "code",
   "execution_count": null,
   "id": "f32886d4",
   "metadata": {
    "ExecuteTime": {
     "end_time": "2024-05-03T11:10:32.441390Z",
     "start_time": "2024-05-03T11:10:32.394978Z"
    }
   },
   "outputs": [],
   "source": []
  },
  {
   "cell_type": "code",
   "execution_count": 8,
   "id": "a93ffe8e",
   "metadata": {
    "ExecuteTime": {
     "end_time": "2024-05-03T11:10:32.498332Z",
     "start_time": "2024-05-03T11:10:32.442705Z"
    },
    "scrolled": true
   },
   "outputs": [
    {
     "data": {
      "text/plain": [
       "0    2011-01-01 00:02:31\n",
       "1    2011-01-01 00:06:59\n",
       "2    2011-01-01 00:34:10\n",
       "3    2011-01-01 00:46:01\n",
       "4    2011-01-01 01:00:46\n",
       "Name: time, dtype: object"
      ]
     },
     "execution_count": 8,
     "metadata": {},
     "output_type": "execute_result"
    }
   ],
   "source": [
    "df['time'] = df['time'].str.slice(0,19)\n",
    "df['time'] = df['time'].str.replace('T',' ')\n",
    "df['time'].head()"
   ]
  },
  {
   "cell_type": "code",
   "execution_count": 9,
   "id": "24a78e68",
   "metadata": {
    "ExecuteTime": {
     "end_time": "2024-05-03T11:10:32.506396Z",
     "start_time": "2024-05-03T11:10:32.499209Z"
    }
   },
   "outputs": [
    {
     "data": {
      "text/plain": [
       "(363898, 22)"
      ]
     },
     "execution_count": 9,
     "metadata": {},
     "output_type": "execute_result"
    }
   ],
   "source": [
    "df.shape"
   ]
  },
  {
   "cell_type": "code",
   "execution_count": 10,
   "id": "abc30376",
   "metadata": {
    "ExecuteTime": {
     "end_time": "2024-05-03T11:10:33.380464Z",
     "start_time": "2024-05-03T11:10:32.507180Z"
    }
   },
   "outputs": [],
   "source": [
    "# converting the time features in to the readable format to scrape distance of moon by the time \n",
    "df['time'] = pd.to_datetime(df['time'], format = '%Y-%m-%d %H:%M:%S')"
   ]
  },
  {
   "cell_type": "code",
   "execution_count": 11,
   "id": "304f48e9",
   "metadata": {
    "ExecuteTime": {
     "end_time": "2024-05-03T11:10:33.390660Z",
     "start_time": "2024-05-03T11:10:33.381389Z"
    }
   },
   "outputs": [
    {
     "data": {
      "text/plain": [
       "Index(['time', 'latitude', 'longitude', 'depth', 'mag', 'magType', 'nst',\n",
       "       'gap', 'dmin', 'rms', 'net', 'id', 'updated', 'place', 'type',\n",
       "       'horizontalError', 'depthError', 'magError', 'magNst', 'status',\n",
       "       'locationSource', 'magSource'],\n",
       "      dtype='object')"
      ]
     },
     "execution_count": 11,
     "metadata": {},
     "output_type": "execute_result"
    }
   ],
   "source": [
    "df.columns"
   ]
  },
  {
   "cell_type": "markdown",
   "id": "717705d6",
   "metadata": {
    "ExecuteTime": {
     "end_time": "2024-05-03T11:10:35.055059Z",
     "start_time": "2024-05-03T11:10:33.391543Z"
    }
   },
   "source": [
    "### filtering the dataset based on requirement for the research "
   ]
  },
  {
   "cell_type": "code",
   "execution_count": 12,
   "id": "13fdf830-d206-4083-abfd-86931fb5fd34",
   "metadata": {
    "ExecuteTime": {
     "end_time": "2024-05-03T11:10:37.967785Z",
     "start_time": "2024-05-03T11:10:37.964718Z"
    }
   },
   "outputs": [
    {
     "data": {
      "text/plain": [
       "type\n",
       "earthquake                    360471\n",
       "mining explosion                2368\n",
       "explosion                        641\n",
       "ice quake                        133\n",
       "other event                      105\n",
       "volcanic eruption                 73\n",
       "rock burst                        38\n",
       "quarry blast                      33\n",
       "mine collapse                     13\n",
       "experimental explosion             8\n",
       "nuclear explosion                  4\n",
       "landslide                          3\n",
       "Landslide                          2\n",
       "sonic boom                         2\n",
       "collapse                           1\n",
       "induced or triggered event         1\n",
       "Ice Quake                          1\n",
       "acoustic noise                     1\n",
       "Name: count, dtype: int64"
      ]
     },
     "execution_count": 12,
     "metadata": {},
     "output_type": "execute_result"
    }
   ],
   "source": [
    "df['type'].value_counts()\n"
   ]
  },
  {
   "cell_type": "code",
   "execution_count": 13,
   "id": "ba2c131f-6230-48a7-943d-c83e8d2b6091",
   "metadata": {
    "ExecuteTime": {
     "end_time": "2024-05-03T11:10:37.967785Z",
     "start_time": "2024-05-03T11:10:37.964718Z"
    }
   },
   "outputs": [
    {
     "data": {
      "text/plain": [
       "array(['earthquake'], dtype=object)"
      ]
     },
     "execution_count": 13,
     "metadata": {},
     "output_type": "execute_result"
    }
   ],
   "source": [
    "# there are different types of recorded sesmic waves here we are working on earthquake dataset so removing oter types of waves\n",
    "df = df[df['type'].isin(['earthquake'])]\n",
    "df['type'].unique()"
   ]
  },
  {
   "cell_type": "code",
   "execution_count": 14,
   "id": "c7dab03e-cf9c-4b1f-92ab-57b78b7d58d6",
   "metadata": {
    "ExecuteTime": {
     "end_time": "2024-05-03T11:10:37.970954Z",
     "start_time": "2024-05-03T11:10:37.969073Z"
    }
   },
   "outputs": [
    {
     "data": {
      "text/plain": [
       "(360, 22)"
      ]
     },
     "execution_count": 14,
     "metadata": {},
     "output_type": "execute_result"
    }
   ],
   "source": [
    "df = df.sample(frac = 0.001)\n",
    "df.shape"
   ]
  },
  {
   "cell_type": "markdown",
   "id": "11a6ef2e",
   "metadata": {
    "ExecuteTime": {
     "end_time": "2024-05-03T11:10:37.979726Z",
     "start_time": "2024-05-03T11:10:37.976208Z"
    }
   },
   "source": [
    "### Webscraping Distance "
   ]
  },
  {
   "cell_type": "code",
   "execution_count": 15,
   "id": "29c7bd52-e379-4593-9a4b-c6054f760e44",
   "metadata": {
    "ExecuteTime": {
     "end_time": "2024-05-03T11:10:37.994243Z",
     "start_time": "2024-05-03T11:10:37.980739Z"
    }
   },
   "outputs": [],
   "source": [
    "from skyfield.api import Loader, Topos\n",
    "from datetime import datetime\n",
    "\n",
    "def get_distance_earth_moon(date_time):\n",
    "    # Load the ephemeris data from the JPL DE421 file\n",
    "    load = Loader('~/skyfield-data')\n",
    "    planets = load('de421.bsp')  # Load the DE421 ephemeris data set\n",
    "    earth, moon = planets['earth'], planets['moon']  # Get Earth and Moon objects\n",
    "\n",
    "    # Get the position of the Moon relative to Earth\n",
    "    ts = load.timescale()  # Load the timescale object\n",
    "    # Convert the provided datetime to Skyfield's time object\n",
    "    t = ts.utc(date_time.year, date_time.month, date_time.day, \n",
    "               date_time.hour, date_time.minute, date_time.second)\n",
    "    astrometric = (moon - earth).at(t)  # Calculate the astrometric position of the Moon relative to Earth\n",
    "\n",
    "    # Get the distance between Earth and Moon in kilometers\n",
    "    distance_km = astrometric.distance().km\n",
    "#     print(distance_km)\n",
    "    return distance_km  # Return the distance in kilometers\n",
    "\n"
   ]
  },
  {
   "cell_type": "code",
   "execution_count": 16,
   "id": "9fed48e8-e30a-4314-8218-ce6242b6db9c",
   "metadata": {
    "ExecuteTime": {
     "end_time": "2024-05-03T11:10:37.994243Z",
     "start_time": "2024-05-03T11:10:37.980739Z"
    }
   },
   "outputs": [],
   "source": [
    "df['distance'] = df['time'].apply(get_distance_earth_moon)"
   ]
  },
  {
   "cell_type": "code",
   "execution_count": 17,
   "id": "54839bbcb97824df",
   "metadata": {
    "ExecuteTime": {
     "end_time": "2024-05-03T11:10:38.111433Z",
     "start_time": "2024-05-03T11:10:37.998933Z"
    }
   },
   "outputs": [],
   "source": [
    "df['distance'] = df['distance'].astype(int)"
   ]
  },
  {
   "cell_type": "code",
   "execution_count": 18,
   "id": "78d405ea",
   "metadata": {
    "ExecuteTime": {
     "end_time": "2024-05-03T11:10:38.114686Z",
     "start_time": "2024-05-03T11:10:38.112702Z"
    }
   },
   "outputs": [
    {
     "data": {
      "text/html": [
       "<div>\n",
       "<style scoped>\n",
       "    .dataframe tbody tr th:only-of-type {\n",
       "        vertical-align: middle;\n",
       "    }\n",
       "\n",
       "    .dataframe tbody tr th {\n",
       "        vertical-align: top;\n",
       "    }\n",
       "\n",
       "    .dataframe thead th {\n",
       "        text-align: right;\n",
       "    }\n",
       "</style>\n",
       "<table border=\"1\" class=\"dataframe\">\n",
       "  <thead>\n",
       "    <tr style=\"text-align: right;\">\n",
       "      <th></th>\n",
       "      <th>time</th>\n",
       "      <th>latitude</th>\n",
       "      <th>longitude</th>\n",
       "      <th>depth</th>\n",
       "      <th>mag</th>\n",
       "      <th>magType</th>\n",
       "      <th>nst</th>\n",
       "      <th>gap</th>\n",
       "      <th>dmin</th>\n",
       "      <th>rms</th>\n",
       "      <th>...</th>\n",
       "      <th>place</th>\n",
       "      <th>type</th>\n",
       "      <th>horizontalError</th>\n",
       "      <th>depthError</th>\n",
       "      <th>magError</th>\n",
       "      <th>magNst</th>\n",
       "      <th>status</th>\n",
       "      <th>locationSource</th>\n",
       "      <th>magSource</th>\n",
       "      <th>distance</th>\n",
       "    </tr>\n",
       "  </thead>\n",
       "  <tbody>\n",
       "    <tr>\n",
       "      <th>283505</th>\n",
       "      <td>2021-07-29 17:51:42</td>\n",
       "      <td>55.118600</td>\n",
       "      <td>-157.080900</td>\n",
       "      <td>42.500</td>\n",
       "      <td>3.1</td>\n",
       "      <td>ml</td>\n",
       "      <td>NaN</td>\n",
       "      <td>NaN</td>\n",
       "      <td>NaN</td>\n",
       "      <td>0.79</td>\n",
       "      <td>...</td>\n",
       "      <td>155 km SSE of Chignik, Alaska</td>\n",
       "      <td>earthquake</td>\n",
       "      <td>NaN</td>\n",
       "      <td>1.1</td>\n",
       "      <td>NaN</td>\n",
       "      <td>NaN</td>\n",
       "      <td>reviewed</td>\n",
       "      <td>ak</td>\n",
       "      <td>ak</td>\n",
       "      <td>396592</td>\n",
       "    </tr>\n",
       "    <tr>\n",
       "      <th>89319</th>\n",
       "      <td>2014-11-19 06:40:52</td>\n",
       "      <td>-37.688500</td>\n",
       "      <td>179.677300</td>\n",
       "      <td>35.000</td>\n",
       "      <td>4.9</td>\n",
       "      <td>mb</td>\n",
       "      <td>NaN</td>\n",
       "      <td>99.0</td>\n",
       "      <td>1.09500</td>\n",
       "      <td>1.37</td>\n",
       "      <td>...</td>\n",
       "      <td>181 km NE of Gisborne, New Zealand</td>\n",
       "      <td>earthquake</td>\n",
       "      <td>7.1</td>\n",
       "      <td>2.0</td>\n",
       "      <td>0.117</td>\n",
       "      <td>25.0</td>\n",
       "      <td>reviewed</td>\n",
       "      <td>us</td>\n",
       "      <td>us</td>\n",
       "      <td>394257</td>\n",
       "    </tr>\n",
       "    <tr>\n",
       "      <th>91934</th>\n",
       "      <td>2014-12-23 20:35:28</td>\n",
       "      <td>36.891300</td>\n",
       "      <td>-97.691100</td>\n",
       "      <td>5.554</td>\n",
       "      <td>3.0</td>\n",
       "      <td>ml</td>\n",
       "      <td>NaN</td>\n",
       "      <td>54.0</td>\n",
       "      <td>NaN</td>\n",
       "      <td>0.79</td>\n",
       "      <td>...</td>\n",
       "      <td>4 km SW of Renfrow, Oklahoma</td>\n",
       "      <td>earthquake</td>\n",
       "      <td>1.9</td>\n",
       "      <td>7.0</td>\n",
       "      <td>NaN</td>\n",
       "      <td>NaN</td>\n",
       "      <td>reviewed</td>\n",
       "      <td>tul</td>\n",
       "      <td>tul</td>\n",
       "      <td>365253</td>\n",
       "    </tr>\n",
       "    <tr>\n",
       "      <th>19005</th>\n",
       "      <td>2011-10-07 17:54:54</td>\n",
       "      <td>35.365333</td>\n",
       "      <td>-92.263667</td>\n",
       "      <td>5.070</td>\n",
       "      <td>2.6</td>\n",
       "      <td>md</td>\n",
       "      <td>15.0</td>\n",
       "      <td>61.0</td>\n",
       "      <td>0.04348</td>\n",
       "      <td>0.13</td>\n",
       "      <td>...</td>\n",
       "      <td>4 km WSW of Quitman, Arkansas</td>\n",
       "      <td>earthquake</td>\n",
       "      <td>0.6</td>\n",
       "      <td>0.8</td>\n",
       "      <td>0.178</td>\n",
       "      <td>5.0</td>\n",
       "      <td>reviewed</td>\n",
       "      <td>nm</td>\n",
       "      <td>nm</td>\n",
       "      <td>398879</td>\n",
       "    </tr>\n",
       "    <tr>\n",
       "      <th>237202</th>\n",
       "      <td>2020-01-16 16:40:25</td>\n",
       "      <td>52.252200</td>\n",
       "      <td>159.876200</td>\n",
       "      <td>35.000</td>\n",
       "      <td>4.1</td>\n",
       "      <td>mb</td>\n",
       "      <td>NaN</td>\n",
       "      <td>68.0</td>\n",
       "      <td>1.07400</td>\n",
       "      <td>1.03</td>\n",
       "      <td>...</td>\n",
       "      <td>121 km SE of Petropavlovsk-Kamchatsky, Russia</td>\n",
       "      <td>earthquake</td>\n",
       "      <td>7.8</td>\n",
       "      <td>2.0</td>\n",
       "      <td>0.165</td>\n",
       "      <td>16.0</td>\n",
       "      <td>reviewed</td>\n",
       "      <td>us</td>\n",
       "      <td>us</td>\n",
       "      <td>369733</td>\n",
       "    </tr>\n",
       "  </tbody>\n",
       "</table>\n",
       "<p>5 rows × 23 columns</p>\n",
       "</div>"
      ],
      "text/plain": [
       "                      time   latitude   longitude   depth  mag magType   nst  \\\n",
       "283505 2021-07-29 17:51:42  55.118600 -157.080900  42.500  3.1      ml   NaN   \n",
       "89319  2014-11-19 06:40:52 -37.688500  179.677300  35.000  4.9      mb   NaN   \n",
       "91934  2014-12-23 20:35:28  36.891300  -97.691100   5.554  3.0      ml   NaN   \n",
       "19005  2011-10-07 17:54:54  35.365333  -92.263667   5.070  2.6      md  15.0   \n",
       "237202 2020-01-16 16:40:25  52.252200  159.876200  35.000  4.1      mb   NaN   \n",
       "\n",
       "         gap     dmin   rms  ...  \\\n",
       "283505   NaN      NaN  0.79  ...   \n",
       "89319   99.0  1.09500  1.37  ...   \n",
       "91934   54.0      NaN  0.79  ...   \n",
       "19005   61.0  0.04348  0.13  ...   \n",
       "237202  68.0  1.07400  1.03  ...   \n",
       "\n",
       "                                                place        type  \\\n",
       "283505                  155 km SSE of Chignik, Alaska  earthquake   \n",
       "89319              181 km NE of Gisborne, New Zealand  earthquake   \n",
       "91934                    4 km SW of Renfrow, Oklahoma  earthquake   \n",
       "19005                   4 km WSW of Quitman, Arkansas  earthquake   \n",
       "237202  121 km SE of Petropavlovsk-Kamchatsky, Russia  earthquake   \n",
       "\n",
       "       horizontalError depthError magError  magNst    status  locationSource  \\\n",
       "283505             NaN        1.1      NaN     NaN  reviewed              ak   \n",
       "89319              7.1        2.0    0.117    25.0  reviewed              us   \n",
       "91934              1.9        7.0      NaN     NaN  reviewed             tul   \n",
       "19005              0.6        0.8    0.178     5.0  reviewed              nm   \n",
       "237202             7.8        2.0    0.165    16.0  reviewed              us   \n",
       "\n",
       "        magSource distance  \n",
       "283505         ak   396592  \n",
       "89319          us   394257  \n",
       "91934         tul   365253  \n",
       "19005          nm   398879  \n",
       "237202         us   369733  \n",
       "\n",
       "[5 rows x 23 columns]"
      ]
     },
     "execution_count": 18,
     "metadata": {},
     "output_type": "execute_result"
    }
   ],
   "source": [
    "df.head()\n"
   ]
  },
  {
   "cell_type": "markdown",
   "id": "2e1a15f4",
   "metadata": {
    "ExecuteTime": {
     "end_time": "2024-05-03T11:10:38.117730Z",
     "start_time": "2024-05-03T11:10:38.115753Z"
    }
   },
   "source": [
    "### webscraping gravity "
   ]
  },
  {
   "cell_type": "code",
   "execution_count": 19,
   "id": "98d38e11",
   "metadata": {
    "ExecuteTime": {
     "end_time": "2024-05-03T11:10:38.120968Z",
     "start_time": "2024-05-03T11:10:38.118860Z"
    }
   },
   "outputs": [
    {
     "data": {
      "text/plain": [
       "'https://geodesy.noaa.gov/api/gravd/gp?lat=55.1186&lon=-157.0809&eht=100.0'"
      ]
     },
     "execution_count": 19,
     "metadata": {},
     "output_type": "execute_result"
    }
   ],
   "source": [
    "def get_url(lat, lon):\n",
    "    # Construct the URL using the provided latitude and longitude values\n",
    "    url = str(f'https://geodesy.noaa.gov/api/gravd/gp?lat={lat}&lon={lon}&eht=100.0')\n",
    "    # Optional: Uncomment the next line to print the generated URL for debugging\n",
    "    # print(url)\n",
    "    return url\n",
    "\n",
    "# Example call to the function using the first row's latitude and longitude values from the dataframe `df`\n",
    "get_url(df['latitude'].iloc[0], df['longitude'].iloc[0])\n"
   ]
  },
  {
   "cell_type": "code",
   "execution_count": 20,
   "id": "867bc57c",
   "metadata": {
    "ExecuteTime": {
     "end_time": "2024-05-03T11:10:38.120968Z",
     "start_time": "2024-05-03T11:10:38.118860Z"
    }
   },
   "outputs": [],
   "source": [
    "# Apply the get_url function to each row in the dataframe `df` by using the latitude and longitude columns,\n",
    "# and store the resulting URLs in a new column named 'url'.\n",
    "\n",
    "df['url'] = np.vectorize(get_url)(df['latitude'], df['longitude'])"
   ]
  },
  {
   "cell_type": "code",
   "execution_count": null,
   "id": "174f987d",
   "metadata": {
    "ExecuteTime": {
     "end_time": "2024-05-03T11:10:38.120968Z",
     "start_time": "2024-05-03T11:10:38.118860Z"
    }
   },
   "outputs": [],
   "source": []
  },
  {
   "cell_type": "code",
   "execution_count": 21,
   "id": "14d0d2ac",
   "metadata": {
    "ExecuteTime": {
     "end_time": "2024-05-03T11:10:38.120968Z",
     "start_time": "2024-05-03T11:10:38.118860Z"
    },
    "scrolled": true
   },
   "outputs": [
    {
     "name": "stdout",
     "output_type": "stream",
     "text": [
      "1 981566.869\n",
      "2 978504.989\n",
      "3 979842.139\n",
      "4 979280.662\n",
      "5 981124.562\n",
      "6 979725.599\n",
      "7 981547.584\n",
      "8 981942.19\n",
      "9 982213.356\n",
      "10 978491.657\n",
      "11 979854.475\n",
      "12 981092.456\n",
      "13 981120.617\n",
      "14 979918.69\n",
      "15 980006.673\n",
      "16 979555.106\n",
      "17 979742.813\n",
      "18 977948.749\n",
      "19 979658.565\n",
      "20 980169.566\n",
      "21 982206.413\n",
      "22 979578.411\n",
      "23 979190.898\n",
      "24 979012.271\n",
      "25 978094.27\n",
      "26 980692.058\n",
      "27 978033.028\n",
      "28 981359.314\n",
      "29 982337.075\n",
      "30 979762.638\n",
      "31 982533.522\n",
      "32 980995.959\n",
      "33 981561.157\n",
      "34 979886.584\n",
      "35 978477.987\n",
      "36 981024.579\n",
      "37 978542.269\n",
      "38 979954.531\n",
      "39 979431.383\n",
      "40 981253.966\n",
      "41 983065.718\n",
      "42 981621.387\n",
      "43 978284.392\n",
      "44 981415.168\n",
      "45 978152.221\n",
      "46 979748.433\n",
      "47 979468.788\n",
      "48 979058.863\n",
      "49 978317.769\n",
      "50 978528.188\n",
      "51 978304.066\n",
      "52 979922.273\n",
      "53 978312.128\n",
      "54 979847.65\n",
      "55 978370.297\n",
      "56 980142.432\n",
      "57 979779.523\n",
      "58 979428.277\n",
      "59 981236.484\n",
      "60 979952.278\n",
      "61 980018.375\n",
      "62 979918.84\n",
      "63 982369.882\n",
      "64 979015.606\n",
      "65 978654.782\n",
      "66 978823.426\n",
      "67 977959.335\n",
      "68 981361.283\n",
      "69 979421.046\n",
      "70 981499.682\n",
      "71 978217.097\n",
      "72 978453.511\n",
      "73 978006.007\n",
      "74 978972.181\n",
      "75 979255.903\n",
      "76 978303.668\n",
      "77 981577.676\n",
      "78 979009.334\n",
      "79 978552.53\n",
      "80 978120.519\n",
      "81 978141.553\n",
      "82 979326.651\n",
      "83 980582.103\n",
      "84 978436.597\n",
      "85 979455.033\n",
      "86 979111.721\n",
      "87 978407.479\n",
      "88 980057.909\n",
      "89 978505.168\n",
      "90 978536.324\n",
      "91 979960.035\n",
      "92 981212.073\n",
      "93 981878.796\n",
      "94 978591.64\n",
      "95 981455.522\n",
      "96 978054.374\n",
      "97 978093.26\n",
      "98 978102.543\n",
      "99 978571.346\n",
      "100 978794.661\n",
      "101 978581.611\n",
      "102 981963.25\n",
      "103 979706.173\n",
      "104 980769.509\n",
      "105 979009.902\n",
      "106 980073.652\n",
      "107 978559.379\n",
      "108 978350.497\n",
      "109 979949.602\n",
      "110 978250.536\n",
      "111 979444.301\n",
      "112 978511.184\n",
      "113 978539.269\n",
      "114 981546.547\n",
      "115 978388.247\n",
      "116 978043.553\n",
      "117 981806.977\n",
      "118 981561.86\n",
      "119 981335.698\n",
      "120 978012.68\n",
      "121 978319.605\n",
      "122 981264.527\n",
      "123 979247.359\n",
      "124 978322.447\n",
      "125 979909.205\n",
      "126 978996.534\n",
      "127 978662.935\n",
      "128 980057.243\n",
      "129 981449.193\n",
      "130 978334.544\n",
      "131 978746.603\n",
      "132 979450.356\n",
      "133 978724.395\n",
      "134 979914.846\n",
      "135 981429.667\n",
      "136 978394.538\n",
      "137 978088.183\n",
      "138 979007.987\n",
      "139 978877.535\n",
      "140 979010.83\n",
      "141 981193.27\n",
      "142 978510.569\n",
      "143 978156.797\n",
      "144 979298.33\n",
      "145 978443.272\n",
      "146 978855.277\n",
      "147 978111.37\n",
      "148 978107.38\n",
      "149 981106.203\n",
      "150 979708.261\n",
      "151 978560.181\n",
      "152 980026.486\n",
      "153 978077.179\n",
      "154 979335.507\n",
      "155 978144.834\n",
      "156 978246.887\n",
      "157 979553.428\n",
      "158 978030.192\n",
      "159 979789.332\n",
      "160 981296.07\n",
      "161 979696.213\n",
      "162 980988.565\n",
      "163 978275.383\n",
      "164 979855.71\n",
      "165 978266.618\n",
      "166 978011.624\n",
      "167 980983.01\n",
      "168 979181.676\n",
      "169 981803.292\n",
      "170 979012.461\n",
      "171 981007.721\n",
      "172 979787.548\n",
      "173 977960.666\n",
      "174 977990.66\n",
      "175 982363.01\n",
      "176 978222.244\n",
      "177 980934.949\n",
      "178 979166.546\n",
      "179 980380.107\n",
      "180 979185.494\n",
      "181 978575.556\n",
      "182 979755.91\n",
      "183 979804.952\n",
      "184 980550.957\n",
      "185 978207.716\n",
      "186 979386.743\n",
      "187 978257.742\n",
      "188 981729.777\n",
      "189 978485.809\n",
      "190 979739.375\n",
      "191 979450.986\n",
      "192 978987.131\n",
      "193 978092.365\n",
      "194 978416.032\n",
      "195 978901.519\n",
      "196 981879.35\n",
      "197 979371.606\n",
      "198 981213.213\n",
      "199 978176.042\n",
      "200 978424.575\n",
      "201 978312.643\n",
      "202 978223.855\n",
      "203 981586.789\n",
      "204 978040.924\n",
      "205 979868.064\n",
      "206 981081.919\n",
      "207 979749.128\n",
      "208 978512.088\n",
      "209 978059.585\n",
      "210 981903.649\n",
      "211 981498.627\n",
      "212 978968.341\n",
      "213 979993.248\n",
      "214 981205.401\n",
      "215 980160.926\n",
      "216 981513.131\n",
      "217 979431.105\n",
      "218 979703.785\n",
      "219 978154.668\n",
      "220 978448.35\n",
      "221 981102.489\n",
      "222 978332.491\n",
      "223 978019.108\n",
      "224 979817.543\n",
      "225 979094.725\n",
      "226 978978.81\n",
      "227 979788.409\n",
      "228 979372.286\n",
      "229 979012.166\n",
      "230 981707.058\n",
      "231 980041.803\n",
      "232 980635.691\n",
      "233 978281.125\n",
      "234 982580.447\n",
      "235 978207.954\n",
      "236 978098.564\n",
      "237 980069.72\n",
      "238 980012.391\n",
      "239 978569.519\n",
      "240 979802.766\n",
      "241 980161.77\n",
      "242 978310.17\n",
      "243 977979.276\n",
      "244 978619.723\n",
      "245 981488.441\n",
      "246 978088.759\n",
      "247 981547.53\n",
      "248 981775.387\n",
      "249 980067.897\n",
      "250 978832.028\n",
      "251 979589.393\n",
      "252 978533.127\n",
      "253 979594.869\n",
      "254 978044.495\n",
      "255 979743.664\n",
      "256 979786.948\n",
      "257 978363.481\n",
      "258 979387.943\n",
      "259 980810.754\n",
      "260 978379.383\n",
      "261 979655.282\n",
      "262 978801.05\n",
      "263 978550.686\n",
      "264 978699.292\n",
      "265 981634.04\n",
      "266 980592.605\n",
      "267 981659.085\n",
      "268 978989.485\n",
      "269 978100.025\n",
      "270 978782.308\n",
      "271 982421.318\n",
      "272 980347.607\n",
      "273 979632.26\n",
      "274 978126.839\n",
      "275 981529.427\n",
      "276 981885.006\n",
      "277 981441.588\n",
      "278 977998.967\n",
      "279 979790.419\n",
      "280 978293.201\n",
      "281 979791.83\n",
      "282 978147.47\n",
      "283 978161.346\n",
      "284 979254.799\n",
      "285 978576.05\n",
      "286 980132.29\n",
      "287 978111.049\n",
      "288 979127.256\n",
      "289 981701.702\n",
      "290 981838.797\n",
      "291 979585.575\n",
      "292 978290.291\n",
      "293 979648.279\n",
      "294 978280.64\n",
      "295 978063.155\n",
      "296 979032.757\n",
      "297 981211.267\n",
      "298 978332.07\n",
      "299 978559.162\n",
      "300 978221.592\n",
      "301 981206.134\n",
      "302 981831.046\n",
      "303 981492.976\n",
      "304 981531.06\n",
      "305 978389.999\n",
      "306 979991.601\n",
      "307 979007.223\n",
      "308 978373.147\n",
      "309 979476.131\n",
      "310 978091.632\n",
      "311 979759.948\n",
      "312 980874.813\n",
      "313 981395.852\n",
      "314 979067.878\n",
      "315 980132.627\n",
      "316 979837.434\n",
      "317 978202.096\n",
      "318 981258.739\n",
      "319 979032.514\n",
      "320 979119.712\n",
      "321 981185.845\n",
      "322 981259.035\n",
      "323 980131.277\n",
      "324 981319.481\n",
      "325 980466.728\n",
      "326 981906.074\n",
      "327 979301.909\n",
      "328 979769.933\n",
      "329 981153.125\n",
      "330 978984.828\n",
      "331 977988.583\n",
      "332 979554.421\n",
      "333 978888.72\n",
      "334 980490.457\n",
      "335 982148.047\n",
      "336 981108.64\n",
      "337 979648.752\n",
      "338 980087.386\n",
      "339 978226.731\n",
      "340 979951.412\n",
      "341 978210.141\n",
      "342 980997.603\n",
      "343 978552.258\n",
      "344 978119.549\n",
      "345 981508.637\n",
      "346 980329.688\n",
      "347 979802.434\n",
      "348 982287.422\n",
      "349 981350.48\n",
      "350 977998.549\n",
      "351 979793.314\n",
      "352 981250.456\n",
      "353 978515.03\n",
      "354 978150.593\n",
      "355 978559.645\n",
      "356 980007.117\n",
      "357 981978.279\n",
      "358 979742.43\n",
      "359 978501.743\n",
      "360 977945.022\n"
     ]
    }
   ],
   "source": [
    "\n",
    "\n",
    "# to fetch gravity data from multiple URLs concurrently using multithreading. The provided code defines a function get_gravity to retrieve gravity data from \n",
    "# a single URL and another function fetch_gravity_concurrently to apply multithreading for concurrent requests.\n",
    "\n",
    "def get_gravity(url):\n",
    "    scraper = cloudscraper.create_scraper()\n",
    "    max_retries = 3\n",
    "    for attempt in range(max_retries):\n",
    "        try:\n",
    "            response = scraper.get(url)\n",
    "            if response.status_code == 200:\n",
    "                data = response.json()  # Parse the JSON response\n",
    "                return data.get('predictedGravity', 'none')\n",
    "            else:\n",
    "                print(f\"Request failed with status code: {response.status_code}\")\n",
    "                time.sleep(180)  # Wait a bit before retrying\n",
    "                return 'none'\n",
    "        except RequestException as e:\n",
    "            print(f\"Attempt {attempt + 1} for URL {url} failed: {e}\")\n",
    "            if attempt == max_retries - 1:\n",
    "                return 'none'\n",
    "            \n",
    "# Function to apply multithreading for concurrent requests\n",
    "def fetch_gravity_concurrently(urls):\n",
    "    results = []\n",
    "    with concurrent.futures.ThreadPoolExecutor() as executor:\n",
    "        future_to_url = {executor.submit(get_gravity, url): url for url in urls}\n",
    "        for future in concurrent.futures.as_completed(future_to_url):\n",
    "            url = future_to_url[future]\n",
    "            try:\n",
    "                result = future.result()\n",
    "                results.append(result)\n",
    "                print(len(results), result)\n",
    "            except Exception as exc:\n",
    "                print(f'{url} generated an exception: {exc}')\n",
    "                results.append('none')\n",
    "    return results\n",
    "\n",
    "# Main execution\n",
    "# if __name__ == \"__main__\":\n",
    "#     urls = df['url'].tolist()\n",
    "#     df['gravity'] = fetch_gravity_concurrently(urls)"
   ]
  },
  {
   "cell_type": "code",
   "execution_count": 22,
   "id": "945589e0",
   "metadata": {
    "ExecuteTime": {
     "end_time": "2024-05-03T11:10:38.120968Z",
     "start_time": "2024-05-03T11:10:38.118860Z"
    }
   },
   "outputs": [
    {
     "data": {
      "text/html": [
       "<div>\n",
       "<style scoped>\n",
       "    .dataframe tbody tr th:only-of-type {\n",
       "        vertical-align: middle;\n",
       "    }\n",
       "\n",
       "    .dataframe tbody tr th {\n",
       "        vertical-align: top;\n",
       "    }\n",
       "\n",
       "    .dataframe thead th {\n",
       "        text-align: right;\n",
       "    }\n",
       "</style>\n",
       "<table border=\"1\" class=\"dataframe\">\n",
       "  <thead>\n",
       "    <tr style=\"text-align: right;\">\n",
       "      <th></th>\n",
       "      <th>time</th>\n",
       "      <th>latitude</th>\n",
       "      <th>longitude</th>\n",
       "      <th>depth</th>\n",
       "      <th>mag</th>\n",
       "      <th>magType</th>\n",
       "      <th>nst</th>\n",
       "      <th>gap</th>\n",
       "      <th>dmin</th>\n",
       "      <th>rms</th>\n",
       "      <th>...</th>\n",
       "      <th>horizontalError</th>\n",
       "      <th>depthError</th>\n",
       "      <th>magError</th>\n",
       "      <th>magNst</th>\n",
       "      <th>status</th>\n",
       "      <th>locationSource</th>\n",
       "      <th>magSource</th>\n",
       "      <th>distance</th>\n",
       "      <th>url</th>\n",
       "      <th>gravity</th>\n",
       "    </tr>\n",
       "  </thead>\n",
       "  <tbody>\n",
       "    <tr>\n",
       "      <th>283505</th>\n",
       "      <td>2021-07-29 17:51:42</td>\n",
       "      <td>55.1186</td>\n",
       "      <td>-157.0809</td>\n",
       "      <td>42.5</td>\n",
       "      <td>3.1</td>\n",
       "      <td>ml</td>\n",
       "      <td>NaN</td>\n",
       "      <td>NaN</td>\n",
       "      <td>NaN</td>\n",
       "      <td>0.79</td>\n",
       "      <td>...</td>\n",
       "      <td>NaN</td>\n",
       "      <td>1.1</td>\n",
       "      <td>NaN</td>\n",
       "      <td>NaN</td>\n",
       "      <td>reviewed</td>\n",
       "      <td>ak</td>\n",
       "      <td>ak</td>\n",
       "      <td>396592</td>\n",
       "      <td>https://geodesy.noaa.gov/api/gravd/gp?lat=55.1...</td>\n",
       "      <td>981566.869</td>\n",
       "    </tr>\n",
       "    <tr>\n",
       "      <th>89319</th>\n",
       "      <td>2014-11-19 06:40:52</td>\n",
       "      <td>-37.6885</td>\n",
       "      <td>179.6773</td>\n",
       "      <td>35.0</td>\n",
       "      <td>4.9</td>\n",
       "      <td>mb</td>\n",
       "      <td>NaN</td>\n",
       "      <td>99.0</td>\n",
       "      <td>1.095</td>\n",
       "      <td>1.37</td>\n",
       "      <td>...</td>\n",
       "      <td>7.1</td>\n",
       "      <td>2.0</td>\n",
       "      <td>0.117</td>\n",
       "      <td>25.0</td>\n",
       "      <td>reviewed</td>\n",
       "      <td>us</td>\n",
       "      <td>us</td>\n",
       "      <td>394257</td>\n",
       "      <td>https://geodesy.noaa.gov/api/gravd/gp?lat=-37....</td>\n",
       "      <td>978504.989</td>\n",
       "    </tr>\n",
       "  </tbody>\n",
       "</table>\n",
       "<p>2 rows × 25 columns</p>\n",
       "</div>"
      ],
      "text/plain": [
       "                      time  latitude  longitude  depth  mag magType  nst  \\\n",
       "283505 2021-07-29 17:51:42   55.1186  -157.0809   42.5  3.1      ml  NaN   \n",
       "89319  2014-11-19 06:40:52  -37.6885   179.6773   35.0  4.9      mb  NaN   \n",
       "\n",
       "         gap   dmin   rms  ... horizontalError depthError magError magNst  \\\n",
       "283505   NaN    NaN  0.79  ...             NaN        1.1      NaN    NaN   \n",
       "89319   99.0  1.095  1.37  ...             7.1        2.0    0.117   25.0   \n",
       "\n",
       "          status  locationSource  magSource  distance  \\\n",
       "283505  reviewed              ak         ak    396592   \n",
       "89319   reviewed              us         us    394257   \n",
       "\n",
       "                                                      url     gravity  \n",
       "283505  https://geodesy.noaa.gov/api/gravd/gp?lat=55.1...  981566.869  \n",
       "89319   https://geodesy.noaa.gov/api/gravd/gp?lat=-37....  978504.989  \n",
       "\n",
       "[2 rows x 25 columns]"
      ]
     },
     "execution_count": 22,
     "metadata": {},
     "output_type": "execute_result"
    }
   ],
   "source": [
    "\n",
    "df.head(2)"
   ]
  },
  {
   "cell_type": "markdown",
   "id": "9a6a638c",
   "metadata": {},
   "source": [
    "### calculating force between earth and moon"
   ]
  },
  {
   "cell_type": "code",
   "execution_count": 23,
   "id": "86c1a6d6",
   "metadata": {},
   "outputs": [
    {
     "data": {
      "text/plain": [
       "283505    1.861485e+20\n",
       "89319     1.883600e+20\n",
       "91934     2.194623e+20\n",
       "19005     1.840201e+20\n",
       "237202    2.141761e+20\n",
       "Name: force, dtype: float64"
      ]
     },
     "execution_count": 23,
     "metadata": {},
     "output_type": "execute_result"
    }
   ],
   "source": [
    "# G is the universal gravitational constant 6.67 X 10-11N.m2/kg2.  which can be represented as 6.67e-11.\n",
    "G = 6.67e-11\n",
    "# the mass of moon in the kg\n",
    "moon_mass =  7.35e22\n",
    "\n",
    "# this is mass of the eart in the kg\n",
    "earth_mass = 5.9722e24\n",
    "# by usning sample dataframe the force acting at the time of the event of earth quake is calculated, \n",
    "\n",
    "# Calculate force\n",
    "# force = (G * earth_mass * moon_mass) / (df['distance'] * 1000) ** 2\n",
    "# i have multiplied distance by 1000 because it is in killometer and we have to apply formula on meter.\n",
    "# Assign the calculated force to the 'force' column using .loc\n",
    "df.loc[:, 'force'] = df['distance'].apply(lambda x: (G * earth_mass * moon_mass) / ((x * 1000) ** 2))\n",
    "df['force'].head()"
   ]
  },
  {
   "cell_type": "code",
   "execution_count": 33,
   "id": "c40b0efc-3f18-4410-ba2f-8045feb27b0f",
   "metadata": {},
   "outputs": [],
   "source": [
    "# df.to_csv('raw_dataset.csv')"
   ]
  },
  {
   "cell_type": "code",
   "execution_count": null,
   "id": "ae41786a-fa30-4234-918b-868bd218753c",
   "metadata": {},
   "outputs": [],
   "source": []
  }
 ],
 "metadata": {
  "kernelspec": {
   "display_name": "Python 3 (ipykernel)",
   "language": "python",
   "name": "python3"
  },
  "language_info": {
   "codemirror_mode": {
    "name": "ipython",
    "version": 3
   },
   "file_extension": ".py",
   "mimetype": "text/x-python",
   "name": "python",
   "nbconvert_exporter": "python",
   "pygments_lexer": "ipython3",
   "version": "3.11.5"
  }
 },
 "nbformat": 4,
 "nbformat_minor": 5
}
