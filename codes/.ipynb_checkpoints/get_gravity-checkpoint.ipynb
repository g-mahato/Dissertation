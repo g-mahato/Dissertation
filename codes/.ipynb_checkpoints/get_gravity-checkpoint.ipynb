{
 "cells": [
  {
   "cell_type": "code",
   "execution_count": 1,
   "id": "initial_id",
   "metadata": {
    "ExecuteTime": {
     "end_time": "2024-05-28T06:07:42.903247Z",
     "start_time": "2024-05-28T06:07:42.900576Z"
    }
   },
   "outputs": [],
   "source": [
    "import pandas as pd\n",
    "import numpy as np\n",
    "import concurrent.futures\n",
    "import requests\n",
    "import cloudscraper\n",
    "import time\n",
    "from requests.exceptions import RequestException\n"
   ]
  },
  {
   "cell_type": "code",
   "execution_count": 2,
   "id": "ed67f08a587b4f68",
   "metadata": {
    "ExecuteTime": {
     "end_time": "2024-05-28T06:07:42.994248Z",
     "start_time": "2024-05-28T06:07:42.904369Z"
    }
   },
   "outputs": [],
   "source": [
    "df = pd.read_csv('df.csv')\n",
    "# df['gravity'] = 'none'"
   ]
  },
  {
   "cell_type": "code",
   "execution_count": null,
   "id": "d5a03ac3acd30d5d",
   "metadata": {
    "ExecuteTime": {
     "end_time": "2024-05-28T06:07:42.996935Z",
     "start_time": "2024-05-28T06:07:42.995342Z"
    }
   },
   "outputs": [],
   "source": []
  },
  {
   "cell_type": "code",
   "execution_count": 3,
   "id": "6759358db8e381d",
   "metadata": {
    "ExecuteTime": {
     "end_time": "2024-05-28T06:07:43.003232Z",
     "start_time": "2024-05-28T06:07:42.999095Z"
    }
   },
   "outputs": [],
   "source": [
    "def get_gravity(url):\n",
    "    scraper = cloudscraper.create_scraper()\n",
    "    max_retries = 1\n",
    "    for attempt in range(max_retries):\n",
    "        try:\n",
    "            response = scraper.get(url)\n",
    "            if response.status_code == 200:\n",
    "                data = response.json()  # Parse the JSON response\n",
    "                return data.get('predictedGravity', 'none')\n",
    "            else:\n",
    "                # print(f\"Request failed with status code: {response.status_code}\")\n",
    "                # time.sleep(180)  # Wait a bit before retrying\n",
    "                return 'none'\n",
    "        except RequestException as e:\n",
    "            # print(f\"Attempt {attempt + 1} for URL {url} failed: {e}\")\n",
    "            if attempt == max_retries - 1:\n",
    "                return 'none'\n",
    "\n",
    "# Function to apply multithreading for concurrent requests\n",
    "def fetch_gravity_concurrently(urls):\n",
    "    results = []\n",
    "    with concurrent.futures.ThreadPoolExecutor() as executor:\n",
    "        future_to_url = {executor.submit(get_gravity, url): url for url in urls}\n",
    "        for future in concurrent.futures.as_completed(future_to_url):\n",
    "            url = future_to_url[future]\n",
    "            try:\n",
    "                result = future.result()\n",
    "                results.append(result)\n",
    "                print(len(results), result)\n",
    "            except Exception as exc:\n",
    "                # print(f'{url} generated an exception: {exc}')\n",
    "                results.append('none')\n",
    "    return results\n",
    "# Main execution\n",
    "\n",
    "if __name__ == \"__main__\":\n",
    "    mask = df['gravity'] == 'none'\n",
    "    urls = df.loc[mask, 'url'].tolist()  # Convert the URL series to a list\n",
    "    gravity_results = fetch_gravity_concurrently(urls)\n",
    "    df.loc[mask, 'gravity'] = gravity_results"
   ]
  },
  {
   "cell_type": "code",
   "execution_count": 4,
   "id": "f5272e73e0bd196c",
   "metadata": {
    "ExecuteTime": {
     "end_time": "2024-05-28T06:07:43.008703Z",
     "start_time": "2024-05-28T06:07:43.003931Z"
    }
   },
   "outputs": [
    {
     "data": {
      "text/html": [
       "<div>\n",
       "<style scoped>\n",
       "    .dataframe tbody tr th:only-of-type {\n",
       "        vertical-align: middle;\n",
       "    }\n",
       "\n",
       "    .dataframe tbody tr th {\n",
       "        vertical-align: top;\n",
       "    }\n",
       "\n",
       "    .dataframe thead th {\n",
       "        text-align: right;\n",
       "    }\n",
       "</style>\n",
       "<table border=\"1\" class=\"dataframe\">\n",
       "  <thead>\n",
       "    <tr style=\"text-align: right;\">\n",
       "      <th></th>\n",
       "      <th>Unnamed: 0</th>\n",
       "      <th>time</th>\n",
       "      <th>latitude</th>\n",
       "      <th>longitude</th>\n",
       "      <th>depth</th>\n",
       "      <th>mag</th>\n",
       "      <th>magType</th>\n",
       "      <th>nst</th>\n",
       "      <th>gap</th>\n",
       "      <th>dmin</th>\n",
       "      <th>...</th>\n",
       "      <th>depthError</th>\n",
       "      <th>magError</th>\n",
       "      <th>magNst</th>\n",
       "      <th>status</th>\n",
       "      <th>locationSource</th>\n",
       "      <th>magSource</th>\n",
       "      <th>distance</th>\n",
       "      <th>url</th>\n",
       "      <th>gravity</th>\n",
       "      <th>force</th>\n",
       "    </tr>\n",
       "  </thead>\n",
       "  <tbody>\n",
       "  </tbody>\n",
       "</table>\n",
       "<p>0 rows × 27 columns</p>\n",
       "</div>"
      ],
      "text/plain": [
       "Empty DataFrame\n",
       "Columns: [Unnamed: 0, time, latitude, longitude, depth, mag, magType, nst, gap, dmin, rms, net, id, updated, place, type, horizontalError, depthError, magError, magNst, status, locationSource, magSource, distance, url, gravity, force]\n",
       "Index: []\n",
       "\n",
       "[0 rows x 27 columns]"
      ]
     },
     "execution_count": 4,
     "metadata": {},
     "output_type": "execute_result"
    }
   ],
   "source": [
    "df[df['gravity'] == 'none']"
   ]
  },
  {
   "cell_type": "code",
   "execution_count": 5,
   "id": "170acb6891536553",
   "metadata": {
    "ExecuteTime": {
     "end_time": "2024-05-28T06:07:43.012607Z",
     "start_time": "2024-05-28T06:07:43.009383Z"
    }
   },
   "outputs": [],
   "source": [
    "\n",
    "\n",
    "# G is the universal gravitational constant 6.67 X 10-11N.m2/kg2.  which can be represented as 6.67e-11.\n",
    "G = 6.67e-11\n",
    "# the mass of moon in the kg\n",
    "moon_mass =  7.35e22\n",
    "\n",
    "# this is mass of the eart in the kg\n",
    "earth_mass = 5.9722e24\n",
    "\n",
    "# by usning sample dataframe the force acting at the time of the event of earth quake is calculated, \n",
    "# Calculate force\n",
    "force = (G * earth_mass * moon_mass) / (df['distance'] * 1000) ** 2\n",
    "\n",
    "# Assign the calculated force to the 'force' column using .loc\n",
    "df.loc[:, 'force'] = force"
   ]
  },
  {
   "cell_type": "code",
   "execution_count": 6,
   "id": "641ed7a7",
   "metadata": {
    "ExecuteTime": {
     "end_time": "2024-05-28T06:07:43.152546Z",
     "start_time": "2024-05-28T06:07:43.013389Z"
    }
   },
   "outputs": [],
   "source": [
    "df['gravity'] = df['gravity']/ 10000"
   ]
  },
  {
   "cell_type": "code",
   "execution_count": null,
   "id": "b958e393",
   "metadata": {
    "ExecuteTime": {
     "end_time": "2024-05-28T06:07:43.152546Z",
     "start_time": "2024-05-28T06:07:43.013389Z"
    }
   },
   "outputs": [],
   "source": []
  },
  {
   "cell_type": "code",
   "execution_count": null,
   "id": "73ecb38a",
   "metadata": {
    "ExecuteTime": {
     "end_time": "2024-05-28T06:07:43.152546Z",
     "start_time": "2024-05-28T06:07:43.013389Z"
    }
   },
   "outputs": [],
   "source": []
  },
  {
   "cell_type": "code",
   "execution_count": 7,
   "id": "a61a386c1f5faefd",
   "metadata": {
    "ExecuteTime": {
     "end_time": "2024-05-28T06:07:43.152546Z",
     "start_time": "2024-05-28T06:07:43.013389Z"
    }
   },
   "outputs": [],
   "source": [
    "df.to_csv('df.csv', index=False)\n",
    "# "
   ]
  },
  {
   "cell_type": "code",
   "execution_count": 8,
   "id": "5f6db0e79154d706",
   "metadata": {
    "ExecuteTime": {
     "end_time": "2024-05-28T06:07:43.154896Z",
     "start_time": "2024-05-28T06:07:43.153259Z"
    }
   },
   "outputs": [],
   "source": [
    "# for i in range(len(df)):\n",
    "#     if df.loc[i, 'gravity'] == 'none':\n",
    "#         # print(df.loc[i, 'gravity'])\n",
    "#         df.loc[i, 'gravity'] = df['url'].iloc[i].apply(get_gravity)\n",
    "#     else:\n",
    "#         df.loc[i, 'gravity'] = df.loc[i, 'gravity']\n",
    "# df"
   ]
  },
  {
   "cell_type": "code",
   "execution_count": 9,
   "id": "be0e2c56e2da3848",
   "metadata": {
    "ExecuteTime": {
     "end_time": "2024-05-28T06:07:43.156827Z",
     "start_time": "2024-05-28T06:07:43.155514Z"
    }
   },
   "outputs": [],
   "source": [
    "# mask = df['gravity'] == 'none'\n",
    "\n",
    "# Apply the get_gravity function to the 'url' column for the rows where the mask is True\n",
    "# df.loc[mask, 'gravity'] = df.loc[mask, 'url'].apply(get_gravity)"
   ]
  },
  {
   "cell_type": "code",
   "execution_count": 10,
   "id": "4c8ba94467cede92",
   "metadata": {
    "ExecuteTime": {
     "end_time": "2024-05-28T06:07:43.160003Z",
     "start_time": "2024-05-28T06:07:43.158526Z"
    }
   },
   "outputs": [],
   "source": [
    "# df.loc[mask, 'url']"
   ]
  },
  {
   "cell_type": "code",
   "execution_count": null,
   "id": "5ebb495ba5dd5ba",
   "metadata": {
    "ExecuteTime": {
     "end_time": "2024-05-28T06:07:43.161883Z",
     "start_time": "2024-05-28T06:07:43.160641Z"
    }
   },
   "outputs": [],
   "source": []
  }
 ],
 "metadata": {
  "kernelspec": {
   "display_name": "Python 3 (ipykernel)",
   "language": "python",
   "name": "python3"
  },
  "language_info": {
   "codemirror_mode": {
    "name": "ipython",
    "version": 3
   },
   "file_extension": ".py",
   "mimetype": "text/x-python",
   "name": "python",
   "nbconvert_exporter": "python",
   "pygments_lexer": "ipython3",
   "version": "3.11.5"
  }
 },
 "nbformat": 4,
 "nbformat_minor": 5
}
