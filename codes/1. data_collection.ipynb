{
 "cells": [
  {
   "cell_type": "code",
   "execution_count": 1,
   "id": "e3eb649c",
   "metadata": {
    "ExecuteTime": {
     "end_time": "2024-05-03T11:10:31.129984Z",
     "start_time": "2024-05-03T11:10:31.128383Z"
    }
   },
   "outputs": [],
   "source": [
    "# import required library"
   ]
  },
  {
   "cell_type": "code",
   "execution_count": 1,
   "id": "b26cead7",
   "metadata": {
    "ExecuteTime": {
     "end_time": "2024-05-03T11:10:31.162975Z",
     "start_time": "2024-05-03T11:10:31.130664Z"
    }
   },
   "outputs": [
    {
     "name": "stderr",
     "output_type": "stream",
     "text": [
      "/Users/ghanshyamsingh/anaconda3/lib/python3.11/site-packages/pandas/core/arrays/masked.py:60: UserWarning: Pandas requires version '1.3.6' or newer of 'bottleneck' (version '1.3.5' currently installed).\n",
      "  from pandas.core import (\n"
     ]
    }
   ],
   "source": [
    "import numpy as np\n",
    "import pandas as pd\n",
    "import os\n",
    "import glob\n",
    "import concurrent.futures\n",
    "import requests\n",
    "import cloudscraper\n",
    "import time\n",
    "from requests.exceptions import RequestException"
   ]
  },
  {
   "cell_type": "markdown",
   "id": "1ffa653f",
   "metadata": {
    "ExecuteTime": {
     "end_time": "2024-05-03T11:10:31.162975Z",
     "start_time": "2024-05-03T11:10:31.130664Z"
    }
   },
   "source": [
    "### earthquake dataset form usgs"
   ]
  },
  {
   "cell_type": "code",
   "execution_count": 2,
   "id": "e5f8f609",
   "metadata": {
    "ExecuteTime": {
     "end_time": "2024-05-03T11:10:31.165646Z",
     "start_time": "2024-05-03T11:10:31.163737Z"
    }
   },
   "outputs": [],
   "source": [
    "#  Data collection begains with the downloading the dataset form USGS, the USGS provides science for a changing world, which reflects and responds to society’s continuously evolving needs. As the science arm of the Department of the Interior, the USGS brings an array of earth, water, biological, and mapping data and expertise to bear in support of decision-making on environmental, resource, and public safety issues. \n",
    "# url = 'https://earthquake.usgs.gov/earthquakes/search/#%7B%22currentfeatureid%22%3Anull%2C%22mapposition%22%3A%5B%5B-86.46756%2C-537.1875%5D%2C%5B86.44583%2C160.3125%5D%5D%2C%22autoUpdate%22%3A%5B%22autoUpdate%22%5D%2C%22feed%22%3A%22undefined_undefined%22%2C%22listFormat%22%3A%22default%22%2C%22restrictListToMap%22%3A%5B%5D%2C%22sort%22%3A%22newest%22%2C%22basemap%22%3A%22grayscale%22%2C%22overlays%22%3A%5B%22plates%22%5D%2C%22distanceUnit%22%3A%22km%22%2C%22timezone%22%3A%22local%22%2C%22viewModes%22%3A%5B%22settings%22%2C%22map%22%5D%2C%22event%22%3Anull%2C%22search%22%3Anull%7D'\n",
    "# from this source ive downloaded dataset from year 2011 to present date which is 2024 jan.\n",
    "# from the website we can download less than 20000 entries at a time and there are more thatn 20k lables in a year \n",
    "# so there are several dataset that i ve to import and concat."
   ]
  },
  {
   "cell_type": "code",
   "execution_count": 3,
   "id": "96a0f547",
   "metadata": {
    "ExecuteTime": {
     "end_time": "2024-05-03T11:10:31.168338Z",
     "start_time": "2024-05-03T11:10:31.166486Z"
    }
   },
   "outputs": [],
   "source": [
    "# Function to read CSV files using pandas. where path is the location of the file in the local storage \n",
    "\n",
    "def read_csv(path):\n",
    "    return pd.read_csv(path)\n",
    "\n"
   ]
  },
  {
   "cell_type": "code",
   "execution_count": 7,
   "id": "a030e512",
   "metadata": {
    "ExecuteTime": {
     "end_time": "2024-05-03T11:10:31.172826Z",
     "start_time": "2024-05-03T11:10:31.169239Z"
    }
   },
   "outputs": [
    {
     "data": {
      "text/plain": [
       "['../dataset/first_dataset_from_sorce/query (11).csv',\n",
       " '../dataset/first_dataset_from_sorce/query (2).csv',\n",
       " '../dataset/first_dataset_from_sorce/query (27).csv',\n",
       " '../dataset/first_dataset_from_sorce/query (26).csv',\n",
       " '../dataset/first_dataset_from_sorce/query (3).csv',\n",
       " '../dataset/first_dataset_from_sorce/query (10).csv',\n",
       " '../dataset/first_dataset_from_sorce/query (21).csv',\n",
       " '../dataset/first_dataset_from_sorce/query (8).csv',\n",
       " '../dataset/first_dataset_from_sorce/query (17).csv',\n",
       " '../dataset/first_dataset_from_sorce/query (4).csv',\n",
       " '../dataset/first_dataset_from_sorce/query (5).csv',\n",
       " '../dataset/first_dataset_from_sorce/query (16).csv',\n",
       " '../dataset/first_dataset_from_sorce/query (9).csv',\n",
       " '../dataset/first_dataset_from_sorce/query (20).csv',\n",
       " '../dataset/first_dataset_from_sorce/query (19).csv',\n",
       " '../dataset/first_dataset_from_sorce/query (23).csv',\n",
       " '../dataset/first_dataset_from_sorce/query (6).csv',\n",
       " '../dataset/first_dataset_from_sorce/query (15).csv',\n",
       " '../dataset/first_dataset_from_sorce/query (14).csv',\n",
       " '../dataset/first_dataset_from_sorce/query (7).csv',\n",
       " '../dataset/first_dataset_from_sorce/query (22).csv',\n",
       " '../dataset/first_dataset_from_sorce/query (18).csv',\n",
       " '../dataset/first_dataset_from_sorce/query (13).csv',\n",
       " '../dataset/first_dataset_from_sorce/query (25).csv',\n",
       " '../dataset/first_dataset_from_sorce/query (24).csv',\n",
       " '../dataset/first_dataset_from_sorce/query (12).csv',\n",
       " '../dataset/first_dataset_from_sorce/query (1).csv']"
      ]
     },
     "execution_count": 7,
     "metadata": {},
     "output_type": "execute_result"
    }
   ],
   "source": [
    "# To read all CSV files from a specific location using the glob.glob method \n",
    "\n",
    "csv_files = glob.glob('../dataset/first_dataset_from_sorce/*.{}'.format('csv'))\n",
    "csv_files\n",
    "# these are the list of usefull CSV dataframe "
   ]
  },
  {
   "cell_type": "code",
   "execution_count": 6,
   "id": "895462d0",
   "metadata": {
    "ExecuteTime": {
     "end_time": "2024-05-03T11:10:32.105380Z",
     "start_time": "2024-05-03T11:10:31.175007Z"
    }
   },
   "outputs": [],
   "source": [
    "#concating all the csv dataset in to one \n",
    "\n",
    "df_concat = pd.concat([read_csv(f) for f in csv_files ], ignore_index=True)"
   ]
  },
  {
   "cell_type": "code",
   "execution_count": 7,
   "id": "06647fab",
   "metadata": {
    "ExecuteTime": {
     "end_time": "2024-05-03T11:10:32.194221Z",
     "start_time": "2024-05-03T11:10:32.106323Z"
    }
   },
   "outputs": [
    {
     "data": {
      "text/plain": [
       "Index(['time', 'latitude', 'longitude', 'depth', 'mag', 'magType', 'nst',\n",
       "       'gap', 'dmin', 'rms', 'net', 'id', 'updated', 'place', 'type',\n",
       "       'horizontalError', 'depthError', 'magError', 'magNst', 'status',\n",
       "       'locationSource', 'magSource'],\n",
       "      dtype='object')"
      ]
     },
     "execution_count": 7,
     "metadata": {},
     "output_type": "execute_result"
    }
   ],
   "source": [
    "# taking copy of the orginal dataframe \n",
    "\n",
    "df = df_concat.copy()\n",
    "df.columns"
   ]
  },
  {
   "cell_type": "code",
   "execution_count": 8,
   "id": "942007b3",
   "metadata": {
    "ExecuteTime": {
     "end_time": "2024-05-03T11:10:32.375833Z",
     "start_time": "2024-05-03T11:10:32.194940Z"
    }
   },
   "outputs": [],
   "source": [
    "# sorting the dataframe by the time column because during concatining the files entries are ultered\n",
    "\n",
    "df = df.sort_values(by='time').reset_index(drop = True)"
   ]
  },
  {
   "cell_type": "code",
   "execution_count": 9,
   "id": "f32886d4",
   "metadata": {
    "ExecuteTime": {
     "end_time": "2024-05-03T11:10:32.441390Z",
     "start_time": "2024-05-03T11:10:32.394978Z"
    }
   },
   "outputs": [],
   "source": [
    "df['time'] = df['time'].str.slice(0,19)"
   ]
  },
  {
   "cell_type": "code",
   "execution_count": 10,
   "id": "a93ffe8e",
   "metadata": {
    "ExecuteTime": {
     "end_time": "2024-05-03T11:10:32.498332Z",
     "start_time": "2024-05-03T11:10:32.442705Z"
    },
    "scrolled": true
   },
   "outputs": [],
   "source": [
    "df['time'] = df['time'].str.replace('T',' ')"
   ]
  },
  {
   "cell_type": "code",
   "execution_count": 11,
   "id": "24a78e68",
   "metadata": {
    "ExecuteTime": {
     "end_time": "2024-05-03T11:10:32.506396Z",
     "start_time": "2024-05-03T11:10:32.499209Z"
    }
   },
   "outputs": [
    {
     "data": {
      "text/plain": [
       "(363898, 22)"
      ]
     },
     "execution_count": 11,
     "metadata": {},
     "output_type": "execute_result"
    }
   ],
   "source": [
    "df.shape"
   ]
  },
  {
   "cell_type": "code",
   "execution_count": 12,
   "id": "abc30376",
   "metadata": {
    "ExecuteTime": {
     "end_time": "2024-05-03T11:10:33.380464Z",
     "start_time": "2024-05-03T11:10:32.507180Z"
    }
   },
   "outputs": [],
   "source": [
    "# converting the time features in to the readable format to scrape distance of moon by the time \n",
    "df['time'] = pd.to_datetime(df['time'], format = '%Y-%m-%d %H:%M:%S')"
   ]
  },
  {
   "cell_type": "code",
   "execution_count": 13,
   "id": "304f48e9",
   "metadata": {
    "ExecuteTime": {
     "end_time": "2024-05-03T11:10:33.390660Z",
     "start_time": "2024-05-03T11:10:33.381389Z"
    }
   },
   "outputs": [
    {
     "data": {
      "text/plain": [
       "Index(['time', 'latitude', 'longitude', 'depth', 'mag', 'magType', 'nst',\n",
       "       'gap', 'dmin', 'rms', 'net', 'id', 'updated', 'place', 'type',\n",
       "       'horizontalError', 'depthError', 'magError', 'magNst', 'status',\n",
       "       'locationSource', 'magSource'],\n",
       "      dtype='object')"
      ]
     },
     "execution_count": 13,
     "metadata": {},
     "output_type": "execute_result"
    }
   ],
   "source": [
    "df.columns"
   ]
  },
  {
   "cell_type": "markdown",
   "id": "717705d6",
   "metadata": {
    "ExecuteTime": {
     "end_time": "2024-05-03T11:10:35.055059Z",
     "start_time": "2024-05-03T11:10:33.391543Z"
    }
   },
   "source": [
    "### filtering the dataset based on requirement for the research "
   ]
  },
  {
   "cell_type": "code",
   "execution_count": 14,
   "id": "16d35641",
   "metadata": {
    "ExecuteTime": {
     "end_time": "2024-05-03T11:10:37.967785Z",
     "start_time": "2024-05-03T11:10:37.964718Z"
    }
   },
   "outputs": [
    {
     "data": {
      "text/plain": [
       "(360471, 22)"
      ]
     },
     "execution_count": 14,
     "metadata": {},
     "output_type": "execute_result"
    }
   ],
   "source": [
    "# there are different types of recorded sesmic waves here we are working on earthquake dataset so removing oter types of waves\n",
    "df = df[df['type'].isin(['earthquake'])]\n",
    "df.shape\n"
   ]
  },
  {
   "cell_type": "code",
   "execution_count": 15,
   "id": "4e2c7ae4",
   "metadata": {
    "ExecuteTime": {
     "end_time": "2024-05-03T11:10:37.970954Z",
     "start_time": "2024-05-03T11:10:37.969073Z"
    }
   },
   "outputs": [],
   "source": [
    "df = df.sort_values(by='time')"
   ]
  },
  {
   "cell_type": "code",
   "execution_count": 16,
   "id": "8b5e1659",
   "metadata": {
    "ExecuteTime": {
     "end_time": "2024-05-03T11:10:37.970954Z",
     "start_time": "2024-05-03T11:10:37.969073Z"
    }
   },
   "outputs": [],
   "source": [
    "df = df[df['mag'] > 5]"
   ]
  },
  {
   "cell_type": "code",
   "execution_count": null,
   "id": "97f76bca",
   "metadata": {
    "ExecuteTime": {
     "end_time": "2024-05-03T11:10:37.974623Z",
     "start_time": "2024-05-03T11:10:37.972040Z"
    }
   },
   "outputs": [],
   "source": []
  },
  {
   "cell_type": "markdown",
   "id": "11a6ef2e",
   "metadata": {
    "ExecuteTime": {
     "end_time": "2024-05-03T11:10:37.979726Z",
     "start_time": "2024-05-03T11:10:37.976208Z"
    }
   },
   "source": [
    "### Webscraping Distance "
   ]
  },
  {
   "cell_type": "code",
   "execution_count": 17,
   "id": "1350845b4108dfef",
   "metadata": {
    "ExecuteTime": {
     "end_time": "2024-05-03T11:10:37.994243Z",
     "start_time": "2024-05-03T11:10:37.980739Z"
    }
   },
   "outputs": [],
   "source": [
    "from skyfield.api import Loader, Topos\n",
    "from datetime import datetime\n",
    "\n",
    "def get_distance_earth_moon(date_time):\n",
    "    # Load the ephemeris data\n",
    "    load = Loader('~/skyfield-data')\n",
    "    planets = load('de421.bsp')\n",
    "    earth, moon = planets['earth'], planets['moon']\n",
    "\n",
    "    # Get the position of the Moon relative to Earth\n",
    "    ts = load.timescale()\n",
    "    t = ts.utc(date_time.year, date_time.month, date_time.day, date_time.hour, date_time.minute, date_time.second)\n",
    "    astrometric = (moon - earth).at(t)\n",
    "\n",
    "    # Get the distance between Earth and Moon\n",
    "    distance_km = astrometric.distance().km\n",
    "#     print(distance_km)\n",
    "    return distance_km\n",
    "\n",
    "\n",
    "\n",
    "# date_time = datetime(2024, 5, 27, 12, 0, 0)  # Date and time you want to calculate the distance for\n",
    "\n",
    "df['distance'] = df['time'].apply(get_distance_earth_moon)"
   ]
  },
  {
   "cell_type": "code",
   "execution_count": 18,
   "id": "54839bbcb97824df",
   "metadata": {
    "ExecuteTime": {
     "end_time": "2024-05-03T11:10:38.111433Z",
     "start_time": "2024-05-03T11:10:37.998933Z"
    }
   },
   "outputs": [],
   "source": [
    "df['distance'] = df['distance'].astype(int)"
   ]
  },
  {
   "cell_type": "code",
   "execution_count": 35,
   "id": "78d405ea",
   "metadata": {
    "ExecuteTime": {
     "end_time": "2024-05-03T11:10:38.114686Z",
     "start_time": "2024-05-03T11:10:38.112702Z"
    }
   },
   "outputs": [
    {
     "data": {
      "text/html": [
       "<div>\n",
       "<style scoped>\n",
       "    .dataframe tbody tr th:only-of-type {\n",
       "        vertical-align: middle;\n",
       "    }\n",
       "\n",
       "    .dataframe tbody tr th {\n",
       "        vertical-align: top;\n",
       "    }\n",
       "\n",
       "    .dataframe thead th {\n",
       "        text-align: right;\n",
       "    }\n",
       "</style>\n",
       "<table border=\"1\" class=\"dataframe\">\n",
       "  <thead>\n",
       "    <tr style=\"text-align: right;\">\n",
       "      <th></th>\n",
       "      <th>time</th>\n",
       "      <th>latitude</th>\n",
       "      <th>longitude</th>\n",
       "      <th>depth</th>\n",
       "      <th>mag</th>\n",
       "      <th>magType</th>\n",
       "      <th>nst</th>\n",
       "      <th>gap</th>\n",
       "      <th>dmin</th>\n",
       "      <th>rms</th>\n",
       "      <th>...</th>\n",
       "      <th>horizontalError</th>\n",
       "      <th>depthError</th>\n",
       "      <th>magError</th>\n",
       "      <th>magNst</th>\n",
       "      <th>status</th>\n",
       "      <th>locationSource</th>\n",
       "      <th>magSource</th>\n",
       "      <th>distance</th>\n",
       "      <th>url</th>\n",
       "      <th>force</th>\n",
       "    </tr>\n",
       "  </thead>\n",
       "  <tbody>\n",
       "    <tr>\n",
       "      <th>20</th>\n",
       "      <td>2011-01-01 09:56:58</td>\n",
       "      <td>-26.803</td>\n",
       "      <td>-63.136</td>\n",
       "      <td>576.8</td>\n",
       "      <td>7.00</td>\n",
       "      <td>mww</td>\n",
       "      <td>607.0</td>\n",
       "      <td>18.4</td>\n",
       "      <td>NaN</td>\n",
       "      <td>0.85</td>\n",
       "      <td>...</td>\n",
       "      <td>NaN</td>\n",
       "      <td>NaN</td>\n",
       "      <td>NaN</td>\n",
       "      <td>NaN</td>\n",
       "      <td>reviewed</td>\n",
       "      <td>us</td>\n",
       "      <td>us</td>\n",
       "      <td>380543</td>\n",
       "      <td>https://geodesy.noaa.gov/api/gravd/gp?lat=-26....</td>\n",
       "      <td>2.021809e+20</td>\n",
       "    </tr>\n",
       "    <tr>\n",
       "      <th>21</th>\n",
       "      <td>2011-01-01 09:59:36</td>\n",
       "      <td>-26.851</td>\n",
       "      <td>-63.217</td>\n",
       "      <td>592.9</td>\n",
       "      <td>5.78</td>\n",
       "      <td>mw</td>\n",
       "      <td>NaN</td>\n",
       "      <td>NaN</td>\n",
       "      <td>NaN</td>\n",
       "      <td>NaN</td>\n",
       "      <td>...</td>\n",
       "      <td>NaN</td>\n",
       "      <td>25.0</td>\n",
       "      <td>0.4</td>\n",
       "      <td>NaN</td>\n",
       "      <td>reviewed</td>\n",
       "      <td>iscgem</td>\n",
       "      <td>iscgem</td>\n",
       "      <td>380548</td>\n",
       "      <td>https://geodesy.noaa.gov/api/gravd/gp?lat=-26....</td>\n",
       "      <td>2.021755e+20</td>\n",
       "    </tr>\n",
       "  </tbody>\n",
       "</table>\n",
       "<p>2 rows × 25 columns</p>\n",
       "</div>"
      ],
      "text/plain": [
       "                  time  latitude  longitude  depth   mag magType    nst   gap  \\\n",
       "20 2011-01-01 09:56:58   -26.803    -63.136  576.8  7.00     mww  607.0  18.4   \n",
       "21 2011-01-01 09:59:36   -26.851    -63.217  592.9  5.78      mw    NaN   NaN   \n",
       "\n",
       "    dmin   rms  ... horizontalError depthError magError magNst    status  \\\n",
       "20   NaN  0.85  ...             NaN        NaN      NaN    NaN  reviewed   \n",
       "21   NaN   NaN  ...             NaN       25.0      0.4    NaN  reviewed   \n",
       "\n",
       "    locationSource  magSource  distance  \\\n",
       "20              us         us    380543   \n",
       "21          iscgem     iscgem    380548   \n",
       "\n",
       "                                                  url         force  \n",
       "20  https://geodesy.noaa.gov/api/gravd/gp?lat=-26....  2.021809e+20  \n",
       "21  https://geodesy.noaa.gov/api/gravd/gp?lat=-26....  2.021755e+20  \n",
       "\n",
       "[2 rows x 25 columns]"
      ]
     },
     "execution_count": 35,
     "metadata": {},
     "output_type": "execute_result"
    }
   ],
   "source": [
    "df.head(2)\n"
   ]
  },
  {
   "cell_type": "markdown",
   "id": "2e1a15f4",
   "metadata": {
    "ExecuteTime": {
     "end_time": "2024-05-03T11:10:38.117730Z",
     "start_time": "2024-05-03T11:10:38.115753Z"
    }
   },
   "source": [
    "### webscraping gravity "
   ]
  },
  {
   "cell_type": "code",
   "execution_count": 20,
   "id": "98d38e11",
   "metadata": {
    "ExecuteTime": {
     "end_time": "2024-05-03T11:10:38.120968Z",
     "start_time": "2024-05-03T11:10:38.118860Z"
    }
   },
   "outputs": [
    {
     "data": {
      "text/plain": [
       "'https://geodesy.noaa.gov/api/gravd/gp?lat=-26.803&lon=-63.136&eht=100.0'"
      ]
     },
     "execution_count": 20,
     "metadata": {},
     "output_type": "execute_result"
    }
   ],
   "source": [
    "def get_url(lat, lon):\n",
    "    url = str(f'https://geodesy.noaa.gov/api/gravd/gp?lat={lat}&lon={lon}&eht=100.0')\n",
    "#     print(url)\n",
    "    return url\n",
    "get_url(df['latitude'].iloc[0], df['longitude'].iloc[0])"
   ]
  },
  {
   "cell_type": "code",
   "execution_count": 21,
   "id": "867bc57c",
   "metadata": {
    "ExecuteTime": {
     "end_time": "2024-05-03T11:10:38.120968Z",
     "start_time": "2024-05-03T11:10:38.118860Z"
    }
   },
   "outputs": [],
   "source": [
    "df['url'] = np.vectorize(get_url)(df['latitude'], df['longitude'])"
   ]
  },
  {
   "cell_type": "code",
   "execution_count": null,
   "id": "174f987d",
   "metadata": {
    "ExecuteTime": {
     "end_time": "2024-05-03T11:10:38.120968Z",
     "start_time": "2024-05-03T11:10:38.118860Z"
    }
   },
   "outputs": [],
   "source": []
  },
  {
   "cell_type": "code",
   "execution_count": 24,
   "id": "14d0d2ac",
   "metadata": {
    "ExecuteTime": {
     "end_time": "2024-05-03T11:10:38.120968Z",
     "start_time": "2024-05-03T11:10:38.118860Z"
    },
    "scrolled": true
   },
   "outputs": [],
   "source": [
    "\n",
    "\n",
    "# to fetch gravity data from multiple URLs concurrently using multithreading. The provided code defines a function get_gravity to retrieve gravity data from \n",
    "# a single URL and another function fetch_gravity_concurrently to apply multithreading for concurrent requests.\n",
    "\n",
    "def get_gravity(url):\n",
    "    scraper = cloudscraper.create_scraper()\n",
    "    max_retries = 3\n",
    "    for attempt in range(max_retries):\n",
    "        try:\n",
    "            response = scraper.get(url)\n",
    "            if response.status_code == 200:\n",
    "                data = response.json()  # Parse the JSON response\n",
    "                return data.get('predictedGravity', 'none')\n",
    "            else:\n",
    "                print(f\"Request failed with status code: {response.status_code}\")\n",
    "                time.sleep(180)  # Wait a bit before retrying\n",
    "                return 'none'\n",
    "        except RequestException as e:\n",
    "            print(f\"Attempt {attempt + 1} for URL {url} failed: {e}\")\n",
    "            if attempt == max_retries - 1:\n",
    "                return 'none'\n",
    "            \n",
    "# Function to apply multithreading for concurrent requests\n",
    "def fetch_gravity_concurrently(urls):\n",
    "    results = []\n",
    "    with concurrent.futures.ThreadPoolExecutor() as executor:\n",
    "        future_to_url = {executor.submit(get_gravity, url): url for url in urls}\n",
    "        for future in concurrent.futures.as_completed(future_to_url):\n",
    "            url = future_to_url[future]\n",
    "            try:\n",
    "                result = future.result()\n",
    "                results.append(result)\n",
    "                print(len(results), result)\n",
    "            except Exception as exc:\n",
    "                print(f'{url} generated an exception: {exc}')\n",
    "                results.append('none')\n",
    "    return results\n",
    "\n",
    "# Main execution\n",
    "if __name__ == \"__main__\":\n",
    "    urls = df['url'].tolist()\n",
    "    df['gravity'] = fetch_gravity_concurrently(urls)"
   ]
  },
  {
   "cell_type": "code",
   "execution_count": 36,
   "id": "945589e0",
   "metadata": {
    "ExecuteTime": {
     "end_time": "2024-05-03T11:10:38.120968Z",
     "start_time": "2024-05-03T11:10:38.118860Z"
    }
   },
   "outputs": [
    {
     "data": {
      "text/html": [
       "<div>\n",
       "<style scoped>\n",
       "    .dataframe tbody tr th:only-of-type {\n",
       "        vertical-align: middle;\n",
       "    }\n",
       "\n",
       "    .dataframe tbody tr th {\n",
       "        vertical-align: top;\n",
       "    }\n",
       "\n",
       "    .dataframe thead th {\n",
       "        text-align: right;\n",
       "    }\n",
       "</style>\n",
       "<table border=\"1\" class=\"dataframe\">\n",
       "  <thead>\n",
       "    <tr style=\"text-align: right;\">\n",
       "      <th></th>\n",
       "      <th>time</th>\n",
       "      <th>latitude</th>\n",
       "      <th>longitude</th>\n",
       "      <th>depth</th>\n",
       "      <th>mag</th>\n",
       "      <th>magType</th>\n",
       "      <th>nst</th>\n",
       "      <th>gap</th>\n",
       "      <th>dmin</th>\n",
       "      <th>rms</th>\n",
       "      <th>...</th>\n",
       "      <th>horizontalError</th>\n",
       "      <th>depthError</th>\n",
       "      <th>magError</th>\n",
       "      <th>magNst</th>\n",
       "      <th>status</th>\n",
       "      <th>locationSource</th>\n",
       "      <th>magSource</th>\n",
       "      <th>distance</th>\n",
       "      <th>url</th>\n",
       "      <th>force</th>\n",
       "    </tr>\n",
       "  </thead>\n",
       "  <tbody>\n",
       "    <tr>\n",
       "      <th>20</th>\n",
       "      <td>2011-01-01 09:56:58</td>\n",
       "      <td>-26.803</td>\n",
       "      <td>-63.136</td>\n",
       "      <td>576.8</td>\n",
       "      <td>7.00</td>\n",
       "      <td>mww</td>\n",
       "      <td>607.0</td>\n",
       "      <td>18.4</td>\n",
       "      <td>NaN</td>\n",
       "      <td>0.85</td>\n",
       "      <td>...</td>\n",
       "      <td>NaN</td>\n",
       "      <td>NaN</td>\n",
       "      <td>NaN</td>\n",
       "      <td>NaN</td>\n",
       "      <td>reviewed</td>\n",
       "      <td>us</td>\n",
       "      <td>us</td>\n",
       "      <td>380543</td>\n",
       "      <td>https://geodesy.noaa.gov/api/gravd/gp?lat=-26....</td>\n",
       "      <td>2.021809e+20</td>\n",
       "    </tr>\n",
       "    <tr>\n",
       "      <th>21</th>\n",
       "      <td>2011-01-01 09:59:36</td>\n",
       "      <td>-26.851</td>\n",
       "      <td>-63.217</td>\n",
       "      <td>592.9</td>\n",
       "      <td>5.78</td>\n",
       "      <td>mw</td>\n",
       "      <td>NaN</td>\n",
       "      <td>NaN</td>\n",
       "      <td>NaN</td>\n",
       "      <td>NaN</td>\n",
       "      <td>...</td>\n",
       "      <td>NaN</td>\n",
       "      <td>25.0</td>\n",
       "      <td>0.4</td>\n",
       "      <td>NaN</td>\n",
       "      <td>reviewed</td>\n",
       "      <td>iscgem</td>\n",
       "      <td>iscgem</td>\n",
       "      <td>380548</td>\n",
       "      <td>https://geodesy.noaa.gov/api/gravd/gp?lat=-26....</td>\n",
       "      <td>2.021755e+20</td>\n",
       "    </tr>\n",
       "  </tbody>\n",
       "</table>\n",
       "<p>2 rows × 25 columns</p>\n",
       "</div>"
      ],
      "text/plain": [
       "                  time  latitude  longitude  depth   mag magType    nst   gap  \\\n",
       "20 2011-01-01 09:56:58   -26.803    -63.136  576.8  7.00     mww  607.0  18.4   \n",
       "21 2011-01-01 09:59:36   -26.851    -63.217  592.9  5.78      mw    NaN   NaN   \n",
       "\n",
       "    dmin   rms  ... horizontalError depthError magError magNst    status  \\\n",
       "20   NaN  0.85  ...             NaN        NaN      NaN    NaN  reviewed   \n",
       "21   NaN   NaN  ...             NaN       25.0      0.4    NaN  reviewed   \n",
       "\n",
       "    locationSource  magSource  distance  \\\n",
       "20              us         us    380543   \n",
       "21          iscgem     iscgem    380548   \n",
       "\n",
       "                                                  url         force  \n",
       "20  https://geodesy.noaa.gov/api/gravd/gp?lat=-26....  2.021809e+20  \n",
       "21  https://geodesy.noaa.gov/api/gravd/gp?lat=-26....  2.021755e+20  \n",
       "\n",
       "[2 rows x 25 columns]"
      ]
     },
     "execution_count": 36,
     "metadata": {},
     "output_type": "execute_result"
    }
   ],
   "source": [
    "\n",
    "df.head(2)"
   ]
  },
  {
   "cell_type": "markdown",
   "id": "9a6a638c",
   "metadata": {},
   "source": [
    "### calculating force between earth and moon"
   ]
  },
  {
   "cell_type": "code",
   "execution_count": null,
   "id": "38a719a7",
   "metadata": {},
   "outputs": [],
   "source": []
  },
  {
   "cell_type": "code",
   "execution_count": null,
   "id": "c3e1e423",
   "metadata": {},
   "outputs": [],
   "source": []
  },
  {
   "cell_type": "code",
   "execution_count": 27,
   "id": "0ad3bc86",
   "metadata": {},
   "outputs": [],
   "source": [
    "\n",
    "# G is the universal gravitational constant 6.67 X 10-11N.m2/kg2.  which can be represented as 6.67e-11.\n",
    "G = 6.67e-11\n",
    "# the mass of moon in the kg\n",
    "moon_mass =  7.35e22\n",
    "\n",
    "# this is mass of the eart in the kg\n",
    "earth_mass = 5.9722e24\n",
    "\n"
   ]
  },
  {
   "cell_type": "code",
   "execution_count": 28,
   "id": "86c1a6d6",
   "metadata": {},
   "outputs": [],
   "source": [
    "# by usning sample dataframe the force acting at the time of the event of earth quake is calculated, \n",
    "# Calculate force\n",
    "force = (G * earth_mass * moon_mass) / (df['distance'] * 1000) ** 2\n",
    "\n",
    "# Assign the calculated force to the 'force' column using .loc\n",
    "df.loc[:, 'force'] = force"
   ]
  },
  {
   "cell_type": "code",
   "execution_count": 29,
   "id": "f37c7e20",
   "metadata": {},
   "outputs": [],
   "source": [
    "# df.to_csv('final_dataset.csv')"
   ]
  },
  {
   "cell_type": "code",
   "execution_count": null,
   "id": "92ca2498",
   "metadata": {},
   "outputs": [],
   "source": []
  },
  {
   "cell_type": "code",
   "execution_count": null,
   "id": "874def8c",
   "metadata": {},
   "outputs": [],
   "source": []
  }
 ],
 "metadata": {
  "kernelspec": {
   "display_name": "Python 3 (ipykernel)",
   "language": "python",
   "name": "python3"
  },
  "language_info": {
   "codemirror_mode": {
    "name": "ipython",
    "version": 3
   },
   "file_extension": ".py",
   "mimetype": "text/x-python",
   "name": "python",
   "nbconvert_exporter": "python",
   "pygments_lexer": "ipython3",
   "version": "3.11.5"
  }
 },
 "nbformat": 4,
 "nbformat_minor": 5
}
